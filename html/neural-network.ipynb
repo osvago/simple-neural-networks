{
 "cells": [
  {
   "cell_type": "markdown",
   "metadata": {
    "collapsed": false
   },
   "source": [
    "## Dependencies"
   ]
  },
  {
   "cell_type": "code",
   "execution_count": 1,
   "metadata": {
    "collapsed": false
   },
   "outputs": [
    {
     "name": "stdout",
     "output_type": "stream",
     "text": [
      "Dependencies loaded\n"
     ]
    }
   ],
   "source": [
    "from dataclasses import dataclass # for neural network construction\n",
    "import pickle                     # to import MNIST data\n",
    "import gzip                       # to import MNIST data\n",
    "import random                     # to initialize weights and biases\n",
    "import numpy as np                # for all needed math\n",
    "from PIL import Image, ImageOps   # for image file processing\n",
    "from time import time             # for performance measurement\n",
    "print(\"Dependencies loaded\")"
   ]
  },
  {
   "cell_type": "markdown",
   "metadata": {
    "collapsed": false
   },
   "source": [
    "## Basic math functions"
   ]
  },
  {
   "cell_type": "markdown",
   "metadata": {
    "collapsed": false
   },
   "source": [
    "### Sigmoid function \n",
    "\n",
    "It is used as the activation function in all layers of our network and is defined as:\n",
    "\n",
    "$$\\sigma(z) = \\frac{1}{1 + e^{-z}}$$\n",
    "\n",
    "where $z$ is an `ndarray` (vector) and it will apply the formula element-wise and return another `ndarray` of the same shape as $z$."
   ]
  },
  {
   "cell_type": "code",
   "execution_count": 2,
   "metadata": {
    "collapsed": false
   },
   "outputs": [
    {
     "name": "stdout",
     "output_type": "stream",
     "text": [
      "sigmoid defined\n"
     ]
    }
   ],
   "source": [
    "def sigmoid(z):\n",
    "    return 1.0 / (1.0 + np.exp(-z))\n",
    "print(\"sigmoid defined\")"
   ]
  },
  {
   "cell_type": "markdown",
   "metadata": {
    "collapsed": false
   },
   "source": [
    "### Derivative of the sigmoid function\n",
    "\n",
    "Is used in the backpropagation algorithm and is defined as:\n",
    "\n",
    "$$ \\sigma^\\prime(z) = \\left(\\frac{1}{1 + e^{-z}}\\right)^\\prime = \\left((1 + e^{-z})^{-1}\\right)^\\prime $$\n",
    "\n",
    "using the _power rule_ we can rewrite this as:\n",
    "\n",
    "$$ -\\frac{(1 + e^{-z})^\\prime}{(1 + e^{-z})^{2}} $$\n",
    "\n",
    "then using the _sum rule_ rewrite it as (taking the derivative of the nominator):\n",
    "\n",
    "$$ -(1 + e^{-z})^{-2}(e^{-z})^\\prime$$\n",
    "\n",
    "applying the _exponential rule_ we get:\n",
    "\n",
    "$$ -(1 + e^{-z})^{-2}e^{-z}(-z)^\\prime $$ \n",
    "\n",
    "derivative of $-z$ is simply $-1$ that cancels the minus sign, so we now have:\n",
    "\n",
    "$$ (1 + e^{-z})^{-2}e^{-z}$$\n",
    "\n",
    "which is equivalent to:\n",
    "\n",
    "$$ \\frac{e^{-z}}{(1 + e^{-z})^{2}} $$ \n",
    "\n",
    "that can be rewritten as:\n",
    "\n",
    "$$ \\frac{1}{1 + e^{-z}}\\frac{e^{-z}}{1 + e^{-z}}$$\n",
    "\n",
    "and now with a sleight of hand (by adding and subtracting $1$) we can make it to be:\n",
    "\n",
    "$$ \\frac{1}{1 + e^{-z}}\\frac{e^{-z} + 1 - 1}{1 + e^{-z}} = \\frac{1}{1 + e^{-z}}\\left(\\frac{1 + e^{-z}}{1 + e^{-z}} - \\frac{1}{1 + e^{-z}}\\right)$$\n",
    "\n",
    "and after simplifying it, we end up with the formula:\n",
    "\n",
    "$$\\frac{1}{1 + e^{-z}}\\left(1 - \\frac{1}{1 + e^{-z}}\\right) = \\sigma(z)(1 - \\sigma(z)) $$\n",
    "\n",
    "that the code below implements."
   ]
  },
  {
   "cell_type": "code",
   "execution_count": 3,
   "metadata": {
    "collapsed": false
   },
   "outputs": [
    {
     "name": "stdout",
     "output_type": "stream",
     "text": [
      "Derivation of sigmoid defined\n"
     ]
    }
   ],
   "source": [
    "def sigmoid_prime(z):\n",
    "    return sigmoid(z) * (1 - sigmoid(z))\n",
    "print(\"Derivation of sigmoid defined\")"
   ]
  },
  {
   "cell_type": "markdown",
   "metadata": {
    "collapsed": false
   },
   "source": [
    "### Derivative of the cost function\n",
    "\n",
    "We use simple mean square error as our cost function:\n",
    "\n",
    "$$ C(a_L) = \\frac{1}{2}\\|y(x)-a_L(x)\\|^2 $$\n",
    "\n",
    "where the cost function is for a _single_ input $x$, and $a_L$ is the activation function (i.e. output) of the last layer of the network.\n",
    "\n",
    "And its derivative (which is used in the backpropagation algorithm) is defined as:\n",
    "\n",
    "$$ \\left[\\frac{dC_x}{da_L}\\right] \\equiv C^\\prime(a_L)$$\n",
    "\n",
    "We can rewrite the cost function as:\n",
    "\n",
    "$$ C(a_L) = \\frac{1}{2}(y^2 - 2ya_L + a_L^2) $$\n",
    "\n",
    "and therefore its derivative is:\n",
    "\n",
    "$$ C^\\prime(a_L) = \\frac{1}{2}(2a_L - 2y) = a_L - y $$\n",
    "\n",
    "Note that again $x, y,$ and $a_L$ are `ndarray`s."
   ]
  },
  {
   "cell_type": "code",
   "execution_count": 4,
   "metadata": {
    "collapsed": false
   },
   "outputs": [
    {
     "name": "stdout",
     "output_type": "stream",
     "text": [
      "cost_derivative defined\n"
     ]
    }
   ],
   "source": [
    "def cost_derivative(output_activations, y):\n",
    "    return (output_activations - y)\n",
    "print(\"cost_derivative defined\")"
   ]
  },
  {
   "cell_type": "markdown",
   "metadata": {
    "collapsed": false
   },
   "source": [
    "## The neural network\n",
    "\n",
    "The network is not implemented as a full-blown class, as it was in the original code. It is done this way to allow markdown annotations of each function (because there is no simple or elegant way to split the class implementation into multiple cells of the notebook). It is initialized with a list of numbers, each number representing the number of neurons in the corresponding layer of the network. \n",
    "\n",
    "`init_network` returns a _dataclass_ with three elements: num_layers, biases, and weights. The latter two are lists of `num_layers-1` elements of the `ndarray` type."
   ]
  },
  {
   "cell_type": "code",
   "execution_count": 5,
   "metadata": {
    "collapsed": false
   },
   "outputs": [
    {
     "name": "stdout",
     "output_type": "stream",
     "text": [
      "Network defined\n"
     ]
    }
   ],
   "source": [
    "@dataclass\n",
    "class Network:\n",
    "    num_layers: int\n",
    "    biases: list\n",
    "    weights: list\n",
    "\n",
    "def init_network(layers):\n",
    "    \n",
    "    return Network(\n",
    "        len(layers),\n",
    "        \n",
    "        # input layer doesn't have biases\n",
    "        [np.random.randn(y, 1) for y in layers[1:]],\n",
    "        \n",
    "        # there are no (weighted) connections into input layer or out of the output layer\n",
    "        [np.random.randn(y, x) for x, y in zip(layers[:-1], layers[1:])]\n",
    "    )\n",
    "print(\"Network defined\")"
   ]
  },
  {
   "cell_type": "markdown",
   "metadata": {
    "collapsed": false
   },
   "source": [
    "### Forward propagation function\n",
    "\n",
    "Calculates activation vector for each layer and returns the last activation vector as `ndarray`.\n",
    "\n",
    "Parameters:\n",
    "\n",
    "- `nn`: the neural network object returned by the `init_network` function.\n",
    "- `a`: the network input as `ndarray`"
   ]
  },
  {
   "cell_type": "code",
   "execution_count": 6,
   "metadata": {
    "collapsed": false
   },
   "outputs": [
    {
     "name": "stdout",
     "output_type": "stream",
     "text": [
      "Forward propagation defined\n"
     ]
    }
   ],
   "source": [
    "def feedforward(nn, a):\n",
    "    for b, w in zip(nn.biases, nn.weights):\n",
    "        a = sigmoid(np.dot(w, a) + b)\n",
    "    return a\n",
    "print(\"Forward propagation defined\")"
   ]
  },
  {
   "cell_type": "markdown",
   "metadata": {
    "collapsed": false
   },
   "source": [
    "### Evaluation function \n",
    "\n",
    "Returns the number of test inputs for which the neural network outputs the correct result. Note that the neural    network's output is assumed to be the index of whichever neuron in the final layer has the highest activation (one-hot encoding).\n",
    "\n",
    "Parameters:\n",
    "\n",
    "- `nn`: the neural network object returned by the `init_network` function.\n",
    "- `test_data`: a list of tuples (x, y) where x is the input and y is the correct output."
   ]
  },
  {
   "cell_type": "code",
   "execution_count": 7,
   "metadata": {
    "collapsed": false
   },
   "outputs": [
    {
     "name": "stdout",
     "output_type": "stream",
     "text": [
      "Evaluation function defined\n"
     ]
    }
   ],
   "source": [
    "def evaluate(nn, test_data):\n",
    "    test_results = [(np.argmax(feedforward(nn, x)), y) for (x, y) in test_data]\n",
    "    \n",
    "    return sum(int(x == y) for (x, y) in test_results)\n",
    "print(\"Evaluation function defined\")"
   ]
  },
  {
   "cell_type": "markdown",
   "metadata": {
    "collapsed": false
   },
   "source": [
    "### Learning function\n",
    "\n",
    "This is the main function, however the actual work is done by `stochastic_gradient_descent`, which this function invokes for each mini-batch of the training data.\n",
    "\n",
    "Parameters:\n",
    "\n",
    "- `nn`: the neural network object returned by the `init_network` function.\n",
    "- `training_data`: a list of tuples (x, y) representing the training inputs and (known) correct outputs.\n",
    "- `epochs`: number of epochs of training. During each epoch we go through all training data, but in a different order.\n",
    "- `mini_batch_size`: the number of samples in a mini-batch.\n",
    "- `learning_rate`: a hyper-parameter, 0.3 is the recommended value.\n",
    "- `test_data`: another list of tuples (x, y) representing the test inputs and known outputs.\n",
    "\n",
    "If `test_data` is provided then the network will be evaluated against the test data after each epoch, and partial progress printed out. This is useful for tracking progress, but slows things down."
   ]
  },
  {
   "cell_type": "code",
   "execution_count": 8,
   "metadata": {
    "collapsed": false
   },
   "outputs": [
    {
     "name": "stdout",
     "output_type": "stream",
     "text": [
      "Learning function defined\n"
     ]
    }
   ],
   "source": [
    "def learn(nn, training_data, epochs, mini_batch_size, learning_rate, test_data = None):\n",
    "    n = len(training_data)\n",
    "\n",
    "    for j in range(epochs):\n",
    "        random.shuffle(training_data) # that's where \"stochastic\" comes from\n",
    "\n",
    "        mini_batches = [\n",
    "            training_data[k: k + mini_batch_size] for k in range(0, n, mini_batch_size)\n",
    "        ]\n",
    "        \n",
    "        for mini_batch in mini_batches:\n",
    "            stochastic_gradient_descent(nn, mini_batch, learning_rate) # that's where learning really happes\n",
    "\n",
    "        if test_data:\n",
    "            print('Epoch {0}: accuracy {1}%'.format(f'{j + 1:2}', 100.0 * evaluate(nn, test_data) / len(test_data)))\n",
    "        else:\n",
    "            print('Epoch {0} complete.'.format(f'{j + 1:2}'))\n",
    "print(\"Learning function defined\")"
   ]
  },
  {
   "cell_type": "markdown",
   "metadata": {
    "collapsed": false
   },
   "source": [
    "### Worker function\n",
    "\n",
    "\n",
    "Updates the network's weights and biases by applying stochastic gradient descent using backpropagation to \n",
    "a single mini-batch according to these equations:\n",
    "\n",
    "$$w = w^\\prime - \\frac{\\eta}{m}\\nabla{w}$$\n",
    "\n",
    "$$b = b^\\prime - \\frac{\\eta}{m}\\nabla{b}$$\n",
    "\n",
    "where $m$ is the number of samples in the mini-batch, and $\\eta$ is the learning rate.\n",
    "\n",
    "$\\nabla{w}$ and $\\nabla{b}$ are calculated by consequently adding $\\delta\\nabla{w}$ and $\\delta\\nabla{b}$ for each sample in the mini-batch, and $\\delta\\nabla{w}$ and $\\delta\\nabla{b}$ are computed by the backpropagation function.\n",
    "\n",
    "Parameters:\n",
    "- `nn`: the neural network object returned by the `init_network` function.\n",
    "- `mini_batch`: a list of training data tuples (x, y) representing the training inputs and (known) correct outputs.\n",
    "- `eta`: the learning rate hyper-parameter $\\eta$."
   ]
  },
  {
   "cell_type": "code",
   "execution_count": 9,
   "metadata": {
    "collapsed": false
   },
   "outputs": [
    {
     "name": "stdout",
     "output_type": "stream",
     "text": [
      "Worker defined\n"
     ]
    }
   ],
   "source": [
    "def stochastic_gradient_descent(nn, mini_batch, eta):\n",
    "    # \"nabla\" is the gradient symbol\n",
    "    nabla_b = [np.zeros(b.shape) for b in nn.biases]\n",
    "    nabla_w = [np.zeros(w.shape) for w in nn.weights]\n",
    "    \n",
    "    for x, y in mini_batch:\n",
    "        delta_nabla_b, delta_nabla_w = backprop(nn, x, y) # compute the gradient\n",
    "        \n",
    "        # note that here we call the return values 'delta_nabla', while in the\n",
    "        # backprop function we call them 'nabla'\n",
    "\n",
    "        nabla_b = [nb + dnb for nb, dnb in zip(nabla_b, delta_nabla_b)]\n",
    "        nabla_w = [nw + dnw for nw, dnw in zip(nabla_w, delta_nabla_w)]\n",
    "\n",
    "        \n",
    "    nn.weights = [w - (eta / len(mini_batch)) * nw for w, nw in zip(nn.weights, nabla_w)]\n",
    "    nn.biases  = [b - (eta / len(mini_batch)) * nb for b, nb in zip(nn.biases, nabla_b)]\n",
    "print(\"Worker defined\")"
   ]
  },
  {
   "cell_type": "markdown",
   "metadata": {
    "collapsed": false
   },
   "source": [
    "### Backpropagation\n",
    "\n",
    "Backpropagation function returns the gradient of the cost function:\n",
    "\n",
    "$$\\nabla{C_x} = \\left[ \\frac{\\partial C_x}{\\partial b}, \\frac{\\partial C_x}{\\partial w} \\right]$$\n",
    "\n",
    "as a tuple $(\\nabla{b}, \\nabla{w})$. \n",
    "\n",
    "First we populate all $z$ and $a$ vectors for each layer during \"feedforward\" pass.\n",
    "\n",
    "Then we go backwards in the network starting at the last layer $L$ and calculate:\n",
    "\n",
    "$$\\delta_L = C^\\prime(z_L) $$\n",
    "\n",
    "This derivative of the cost function $C$ can be expressed using _chain rule_ as:\n",
    "\n",
    "$$ C^\\prime(a(z))a^\\prime(z) = \\frac{dC}{da(z)}a^\\prime(z)$$ \n",
    "\n",
    "note that\n",
    "\n",
    "$$ a(z) \\equiv \\sigma(z) $$\n",
    "\n",
    "and so $\\delta$ can be calculated as follows (this is the same as equation **BP1** in the book):\n",
    "\n",
    "$$ \\delta_L = C^\\prime(a_L) \\circ \\sigma^\\prime(z_L) $$\n",
    "\n",
    "where $\\circ$ denotes Hadamard product. After that we can calculate gradient vector elements for weights and biases: \n",
    "\n",
    "$$ \\nabla{b_L} = \\delta_{L} \\tag{equation BP3} $$\n",
    "\n",
    "$$ \\nabla{w_L} = \\delta_L \\cdot  a_{L-1}^\\top \\tag{equation BP4} $$\n",
    "\n",
    "Note that the original equation **BP4** was written as:\n",
    "\n",
    "$$ \\frac{\\partial{C}}{\\partial{w^L_{jk}}} = a^{L-1}_k\\delta^L_j $$\n",
    "\n",
    "but we want the shape of $\\nabla{w}$ to be the same as the shape of $w$, so we swap the operands while transposing the activation vector so it is now a row vector:\n",
    "\n",
    "$$ \\nabla{w} = \\begin{bmatrix} \n",
    "                \\delta_1 \\\\\n",
    "                \\delta_2 \\\\\n",
    "                \\vdots \\\\\n",
    "                \\delta_J \\\\\n",
    "               \\end{bmatrix} \\cdot \\begin{bmatrix} a_1 a_2 \\dots a_K \\end{bmatrix} $$\n",
    "\n",
    "where $J$ is the number of neurons in the $L$th layer, and $K$ is the number of neurons in the $(L-1)$th layer. This multiplication will result in the matrix of $(J, K)$ shape, that is with $J$ rows and $K$ columns. Remember that in the book the weight matrix elements $w^l_{jk}$ are defined as connection weights from $k$th neuron in the $l-1$ layer to the $j$th neuron in the $l$th layer, so the weight matrix would be the same $(J, K)$ shape.\n",
    "\n",
    "Then we recalculate $\\delta$ for each _preceeding_ layer $i$, starting with $i = L - 1$:\n",
    "\n",
    "$$ \\delta_{i} = w_{i+1}^\\top \\cdot \\delta_{i+1} \\circ \\sigma^\\prime(z_i) \\tag{equation BP2}$$\n",
    "\n",
    "and using $\\delta_i$ calculate new $\\nabla{b_i}$ and $\\nabla{w_i}$\n",
    "\n",
    "Parameters:\n",
    "\n",
    "- `nn`: the neural network object returned by the `init_network` function.\n",
    "- `x`: input\n",
    "- `y`: desired output\n",
    "\n",
    "The function also calculates $z = w \\cdot x + b$ and the activation $a = \\sigma(z)$. $x, y, z, b, w$ are all `ndarrays`, and $w \\cdot x$ is the dot product."
   ]
  },
  {
   "cell_type": "code",
   "execution_count": 10,
   "metadata": {
    "collapsed": false
   },
   "outputs": [
    {
     "name": "stdout",
     "output_type": "stream",
     "text": [
      "Backpropagation defined\n"
     ]
    }
   ],
   "source": [
    "def backprop(nn, x, y):\n",
    "    nabla_b = [np.zeros(b.shape) for b in nn.biases]\n",
    "    nabla_w = [np.zeros(w.shape) for w in nn.weights]\n",
    "\n",
    "    # feedforward\n",
    "    activation = x    # first layer activation is just its input\n",
    "    activations = [x] # list to store all activations, layer by layer\n",
    "    zs = []           # list to store all z vectors, layer by layer\n",
    "\n",
    "    for b, w in zip(nn.biases, nn.weights):\n",
    "        z = np.dot(w, activation) + b  # calculate z for the current layer\n",
    "        zs.append(z)                   # store\n",
    "        activation = sigmoid(z)        # layer output\n",
    "        activations.append(activation) # store\n",
    "\n",
    "    # backward pass\n",
    "\n",
    "    # 1. starting from the output layer\n",
    "    delta = cost_derivative(activations[-1], y) * sigmoid_prime(zs[-1]) \n",
    "    nabla_b[-1] = delta\n",
    "    nabla_w[-1] = np.dot(delta, activations[-2].transpose())\n",
    "\n",
    "    # 2. continue back to the input layer (i is the layer index, we're using i instead of l\n",
    "    #    to improve readability -- l looks too much like 1)\n",
    "    for i in range(2, nn.num_layers): # starting from the next-to-last layer\n",
    "        z = zs[-i]\n",
    "        sp = sigmoid_prime(z)\n",
    "        delta = np.dot(nn.weights[-i + 1].transpose(), delta) * sp\n",
    "        \n",
    "        nabla_b[-i] = delta\n",
    "        nabla_w[-i] = np.dot(delta, activations[-i - 1].transpose())\n",
    "        \n",
    "    return (nabla_b, nabla_w)\n",
    "print(\"Backpropagation defined\")"
   ]
  },
  {
   "cell_type": "markdown",
   "metadata": {
    "collapsed": false
   },
   "source": [
    "## MNIST data"
   ]
  },
  {
   "cell_type": "markdown",
   "metadata": {
    "collapsed": false
   },
   "source": [
    "### Data load function\n",
    "\n",
    "Returns the MNIST data as a tuple containing the training data, the validation data, and the test data.\n",
    "\n",
    "The `training_data` is returned as a tuple with two entries. The first entry contains the actual training images.  This is an `ndarray` with 50,000 entries.  Each entry is, in turn, an `ndarray` with 784 values, representing the 28 * 28 = 784 pixels in a single MNIST image.\n",
    "\n",
    "The second entry in the `training_data` tuple is an `ndarray` containing 50,000 entries.  Those entries are just the digit values (0...9) for the corresponding images contained in the first entry of the tuple.\n",
    "\n",
    "The `validation_data` and `test_data` are similar, except each contains only 10,000 images.\n",
    "\n",
    "This is a nice data format, but for use in neural networks it's helpful to modify the format of the `training_data` a little.\n",
    "\n",
    "That's done in the wrapper function `load_data_wrapper()`, see below."
   ]
  },
  {
   "cell_type": "code",
   "execution_count": 11,
   "metadata": {
    "collapsed": false
   },
   "outputs": [
    {
     "name": "stdout",
     "output_type": "stream",
     "text": [
      "Loading of training data defined\n"
     ]
    }
   ],
   "source": [
    "import re\n",
    "from urllib import request\n",
    "def load_data():\n",
    "    url1 = 'https://raw.githubusercontent.com/tromgy/simple-neural-networks/master/mnist.pkl.gz'\n",
    "    file_name1 = re.split(pattern='/', string=url1)[-1]\n",
    "    r1 = request.urlretrieve(url=url1, filename=file_name1)\n",
    "    txt1 = re.split(pattern=r'.', string=file_name1)[0] + \".txt\"\n",
    "    f = gzip.open(file_name1, 'rb')\n",
    "    training_data, validation_data, test_data = pickle.load(f, encoding=\"bytes\")\n",
    "    f.close()\n",
    "    \n",
    "    return (training_data, validation_data, test_data)\n",
    "print(\"Loading of training data defined\")"
   ]
  },
  {
   "cell_type": "markdown",
   "metadata": {
    "collapsed": false
   },
   "source": [
    "### Data reshaper function\n",
    "\n",
    "Returns a tuple containing `(training_data, validation_data, test_data)`. Based on `load_data`, but the format is more convenient for use in our implementation of neural networks.\n",
    "\n",
    "In particular, `training_data` is a list containing 50,000 2-tuples `(x, y)`.  `x` is a 784-dimensional `ndarray`\n",
    "containing the input image.  `y` is a 10-dimensional `ndarray` representing the unit vector corresponding to the\n",
    "correct digit for `x`.\n",
    "\n",
    "`validation_data` and `test_data` are lists containing 10,000 2-tuples `(x, y)` tuples. In each case, `x` is a 784-dimensional `ndarray` containing the input image, and `y` is the corresponding classification, i.e., the digit values (integers) corresponding to `x`.\n",
    "\n",
    "Obviously, this means we're using slightly different formats for the training data and the validation / test data.  These formats turn out to be the most convenient for use in our neural network code."
   ]
  },
  {
   "cell_type": "code",
   "execution_count": 12,
   "metadata": {
    "collapsed": false
   },
   "outputs": [
    {
     "name": "stdout",
     "output_type": "stream",
     "text": [
      "Data reshaper defined\n"
     ]
    }
   ],
   "source": [
    "def load_data_wrapper():\n",
    "    tr_d, va_d, te_d = load_data()\n",
    "    \n",
    "    training_inputs = [np.reshape(x, (784, 1)) for x in tr_d[0]]\n",
    "    training_results = [one_hot_encode(y) for y in tr_d[1]]\n",
    "    training_data = zip(training_inputs, training_results)\n",
    "    validation_inputs = [np.reshape(x, (784, 1)) for x in va_d[0]]\n",
    "    validation_data = zip(validation_inputs, va_d[1])\n",
    "    test_inputs = [np.reshape(x, (784, 1)) for x in te_d[0]]\n",
    "    test_data = zip(test_inputs, te_d[1])\n",
    "    \n",
    "    return (list(training_data), list(validation_data), list(test_data))\n",
    "print(\"Data reshaper defined\")"
   ]
  },
  {
   "cell_type": "markdown",
   "metadata": {
    "collapsed": false
   },
   "source": [
    "### One-hot encoder\n",
    "\n",
    "Returns a 10-dimensional unit vector with a 1.0 in the $j$th position and zeroes elsewhere.  This is used to convert a digit (0...9) into a corresponding desired output from the neural network.\n",
    "\n",
    "Parameters:\n",
    "\n",
    "- `j`: the index in the array to set to 1"
   ]
  },
  {
   "cell_type": "code",
   "execution_count": 13,
   "metadata": {
    "collapsed": false
   },
   "outputs": [
    {
     "name": "stdout",
     "output_type": "stream",
     "text": [
      "one_hot_encode defined\n"
     ]
    }
   ],
   "source": [
    "def one_hot_encode(j):\n",
    "    e = np.zeros((10, 1))\n",
    "    e[j] = 1.0\n",
    "    \n",
    "    return e\n",
    "print(\"one_hot_encode defined\")"
   ]
  },
  {
   "cell_type": "markdown",
   "metadata": {
    "collapsed": false
   },
   "source": [
    "### Utility function\n",
    "\n",
    "Prints the shape of a given `ndarray`. The first number is the number of rows, the second number is the number of columns.\n",
    "\n",
    "Parameters:\n",
    "\n",
    "- `name`: the name of the data\n",
    "- `data`: the `ndarray` of data"
   ]
  },
  {
   "cell_type": "code",
   "execution_count": 14,
   "metadata": {
    "collapsed": false
   },
   "outputs": [
    {
     "name": "stdout",
     "output_type": "stream",
     "text": [
      "print_shape defined\n"
     ]
    }
   ],
   "source": [
    "def print_shape(name, data):\n",
    "    print('Shape of {0}: {1}'.format(name, data.shape))\n",
    "print(\"print_shape defined\")"
   ]
  },
  {
   "cell_type": "markdown",
   "metadata": {
    "collapsed": false
   },
   "source": [
    "## Main program\n",
    "\n",
    "Create and train a simple network to recognize handwritten digits based on MNIST data.\n",
    "\n",
    "We use 30 neurons in the intermediate layer and with the learning rate of 3.0, mini-batch size of 10, the network should achieve about 95% accuracy in 15 epochs. "
   ]
  },
  {
   "cell_type": "code",
   "execution_count": 15,
   "metadata": {
    "collapsed": false
   },
   "outputs": [
    {
     "name": "stdout",
     "output_type": "stream",
     "text": [
      "Network layer 2\n",
      "Shape of weights: (30, 784)\n",
      "Shape of biases: (30, 1)\n",
      "Network layer 3\n",
      "Shape of weights: (10, 30)\n",
      "Shape of biases: (10, 1)\n",
      "Learning process started...\n"
     ]
    },
    {
     "name": "stdout",
     "output_type": "stream",
     "text": [
      "Epoch  1: accuracy 89.84%\n"
     ]
    },
    {
     "name": "stdout",
     "output_type": "stream",
     "text": [
      "Epoch  2: accuracy 92.22%\n"
     ]
    },
    {
     "name": "stdout",
     "output_type": "stream",
     "text": [
      "Epoch  3: accuracy 92.93%\n"
     ]
    },
    {
     "name": "stdout",
     "output_type": "stream",
     "text": [
      "Epoch  4: accuracy 92.7%\n"
     ]
    },
    {
     "name": "stdout",
     "output_type": "stream",
     "text": [
      "Epoch  5: accuracy 93.3%\n"
     ]
    },
    {
     "name": "stdout",
     "output_type": "stream",
     "text": [
      "Epoch  6: accuracy 93.78%\n"
     ]
    },
    {
     "name": "stdout",
     "output_type": "stream",
     "text": [
      "Epoch  7: accuracy 93.92%\n"
     ]
    },
    {
     "name": "stdout",
     "output_type": "stream",
     "text": [
      "Epoch  8: accuracy 93.96%\n"
     ]
    },
    {
     "name": "stdout",
     "output_type": "stream",
     "text": [
      "Epoch  9: accuracy 94.18%\n"
     ]
    },
    {
     "name": "stdout",
     "output_type": "stream",
     "text": [
      "Epoch 10: accuracy 94.47%\n"
     ]
    },
    {
     "name": "stdout",
     "output_type": "stream",
     "text": [
      "Epoch 11: accuracy 94.41%\n"
     ]
    },
    {
     "name": "stdout",
     "output_type": "stream",
     "text": [
      "Epoch 12: accuracy 94.44%\n"
     ]
    },
    {
     "name": "stdout",
     "output_type": "stream",
     "text": [
      "Epoch 13: accuracy 94.57%\n"
     ]
    },
    {
     "name": "stdout",
     "output_type": "stream",
     "text": [
      "Epoch 14: accuracy 94.52%\n"
     ]
    },
    {
     "name": "stdout",
     "output_type": "stream",
     "text": [
      "Epoch 15: accuracy 94.55%\n",
      "Learning process complete in 857 seconds (57.1 seconds per epoch)!\n"
     ]
    },
    {
     "name": "stdout",
     "output_type": "stream",
     "text": [
      "Validation (with yet unseen data): accuracy 94.83%\n"
     ]
    }
   ],
   "source": [
    "training_data, validation_data, test_data = load_data_wrapper() # load data\n",
    "\n",
    "nn = init_network([784, 30, 10])\n",
    "\n",
    "for l in range(0, nn.num_layers - 1):\n",
    "    print('Network layer {0}'.format(l + 2)) # disregard the input layer\n",
    "    print_shape('weights', nn.weights[l])\n",
    "    print_shape('biases', nn.biases[l])\n",
    "    \n",
    "# hyper parameters\n",
    "epochs = 15\n",
    "mini_batch_size = 10\n",
    "learning_rate = 3.0\n",
    "    \n",
    "print('Learning process started...')\n",
    "\n",
    "time_start = time()\n",
    "\n",
    "learn(nn, training_data, epochs, mini_batch_size, learning_rate, test_data)\n",
    "\n",
    "time_end = time()\n",
    "\n",
    "time_elapsed = time_end - time_start\n",
    "\n",
    "print('Learning process complete in {0} seconds ({1} seconds per epoch)!'.format(f'{time_elapsed:.0f}', f'{time_elapsed / epochs:.1f}'))\n",
    "\n",
    "print('Validation (with yet unseen data): accuracy {0}%'.format(100.0 * evaluate(nn, validation_data) / len(validation_data)))"
   ]
  },
  {
   "cell_type": "markdown",
   "metadata": {
    "collapsed": false
   },
   "source": [
    "### Load image function\n",
    "\n",
    "This function loads an image from a file and returns an `ndarray` of floats with [784x1] dimensions, the same as in the MNIST set.\n",
    "\n",
    "The file is assumed to be 28x28 pixels, grayscale. _There is no error checking of any kind._\n",
    "\n",
    "Parameters:\n",
    "\n",
    "- `file_name`: the path to the image file"
   ]
  },
  {
   "cell_type": "code",
   "execution_count": 16,
   "metadata": {
    "collapsed": false
   },
   "outputs": [
    {
     "name": "stdout",
     "output_type": "stream",
     "text": [
      "Function for loading image defined\n"
     ]
    }
   ],
   "source": [
    "import requests\n",
    "from io import BytesIO\n",
    "\n",
    "def load_image(file_name):\n",
    "    response = requests.get(file_name)\n",
    "    digit = Image.open(BytesIO(response.content))\n",
    "    \n",
    "    # invert, so that background is black (zeros) \n",
    "\n",
    "    digit = ImageOps.invert(digit)\n",
    "    \n",
    "    pixels = digit.load()\n",
    "    \n",
    "    return np.array(digit).reshape((784, 1)) / 255\n",
    "print(\"Function for loading image defined\")"
   ]
  },
  {
   "cell_type": "markdown",
   "metadata": {
    "collapsed": false
   },
   "source": [
    "### Image recognition function\n",
    "\n",
    "This function takes a path template and the file name (which must be just a single-digit number corresponding to the digit image in the file), loads the image, and passes it through the neural network. The result is then compared with the file number.\n",
    "\n",
    "Parameters:\n",
    "- `path`: path template where the file name is inserted\n",
    "- `file`: the number corresponding to the file name e.g. 1 => '1.png'"
   ]
  },
  {
   "cell_type": "code",
   "execution_count": 17,
   "metadata": {
    "collapsed": false
   },
   "outputs": [
    {
     "name": "stdout",
     "output_type": "stream",
     "text": [
      "Function for recognizing image defined\n"
     ]
    }
   ],
   "source": [
    "def recognize_image(path, file):\n",
    "    x = load_image(path.format(file))\n",
    "\n",
    "    y = feedforward(nn, x)\n",
    "    \n",
    "    bitmap = x.reshape((28, 28))\n",
    "    \n",
    "    file_num = int(file)\n",
    "    result = y.argmax()\n",
    "    \n",
    "    if file_num == result:\n",
    "        ev = 'correctly'\n",
    "    else:\n",
    "        ev = 'incorrectly'\n",
    " \n",
    "    print(file, 'was', ev, 'recognized as', result)\n",
    "print(\"Function for recognizing image defined\")"
   ]
  },
  {
   "cell_type": "markdown",
   "metadata": {
    "collapsed": false
   },
   "source": [
    "## Real-life test!\n",
    "\n",
    "Load images of hand-written digits from our custom-made files and process them with our neural network."
   ]
  },
  {
   "cell_type": "code",
   "execution_count": 18,
   "metadata": {
    "collapsed": false
   },
   "outputs": [
    {
     "name": "stdout",
     "output_type": "stream",
     "text": [
      "Non-MNIST digits:\n",
      "0 was incorrectly recognized as 2"
     ]
    },
    {
     "name": "stdout",
     "output_type": "stream",
     "text": [
      "\n"
     ]
    },
    {
     "name": "stdout",
     "output_type": "stream",
     "text": [
      "1 was correctly recognized as 1\n"
     ]
    },
    {
     "name": "stdout",
     "output_type": "stream",
     "text": [
      "2 was correctly recognized as 2\n",
      "3 was correctly recognized as 3\n"
     ]
    },
    {
     "name": "stdout",
     "output_type": "stream",
     "text": [
      "4 was correctly recognized as 4\n"
     ]
    },
    {
     "name": "stdout",
     "output_type": "stream",
     "text": [
      "5 was correctly recognized as 5\n",
      "6 was correctly recognized as 6\n"
     ]
    },
    {
     "name": "stdout",
     "output_type": "stream",
     "text": [
      "7 was incorrectly recognized as 2\n"
     ]
    },
    {
     "name": "stdout",
     "output_type": "stream",
     "text": [
      "8 was incorrectly recognized as 5\n"
     ]
    },
    {
     "name": "stdout",
     "output_type": "stream",
     "text": [
      "9 was correctly recognized as 9\n"
     ]
    }
   ],
   "source": [
    "print('Non-MNIST digits:')\n",
    "\n",
    "for file in range(0,10):\n",
    "    recognize_image('https://raw.githubusercontent.com/tromgy/simple-neural-networks/master/non-MNIST-digits/{0}.png', file)"
   ]
  },
  {
   "cell_type": "code",
   "execution_count": 0,
   "metadata": {
    "collapsed": false
   },
   "outputs": [
   ],
   "source": [
   ]
  }
 ],
 "metadata": {
  "kernelspec": {
   "display_name": "Python 3 (system-wide)",
   "language": "python",
   "metadata": {
    "cocalc": {
     "description": "Python 3 programming language",
     "priority": 100,
     "url": "https://www.python.org/"
    }
   },
   "name": "python3",
   "resource_dir": "/ext/jupyter/kernels/python3"
  },
  "language_info": {
   "codemirror_mode": {
    "name": "ipython",
    "version": 3
   },
   "file_extension": ".py",
   "mimetype": "text/x-python",
   "name": "python",
   "nbconvert_exporter": "python",
   "pygments_lexer": "ipython3",
   "version": "3.8.10"
  }
 },
 "nbformat": 4,
 "nbformat_minor": 4
}